{
 "cells": [
  {
   "cell_type": "markdown",
   "id": "1531b03d",
   "metadata": {},
   "source": [
    "# question 1"
   ]
  },
  {
   "cell_type": "code",
   "execution_count": 1,
   "id": "9d4843fb",
   "metadata": {},
   "outputs": [],
   "source": [
    "# Ordinal encoding assigns numerical values to categories based on their order or rank.\n",
    "# The numerical values assigned to categories have a meaningful ordinal relationship.\n",
    "# Ordinal encoding is suitable when there is a clear order or hierarchy among the categories.\n",
    "# Example: Encoding education level categories such as \"High School,\" \"Bachelor's Degree,\" \"Master's Degree,\" and \"Ph.D.\" as 1, 2, 3, and 4 respectively, assuming a higher numerical value indicates a higher level of education.\n",
    "# Label Encoding:\n",
    "\n",
    "# Label encoding assigns a unique numerical label to each category, typically ranging from 0 to n-1, where n is the number of unique categories.\n",
    "# The numerical labels assigned to categories are arbitrary and do not imply any specific order or ranking.\n",
    "# Label encoding is suitable when there is no inherent order or hierarchy among the categories.\n",
    "# Example: Encoding fruit categories such as \"Apple,\" \"Banana,\" \"Orange,\" \"Grapes,\" and \"Peach\" as 0, 1, 2, 3, and 4 respectively, without implying any particular order among the fruits."
   ]
  },
  {
   "cell_type": "markdown",
   "id": "d653680f",
   "metadata": {},
   "source": [
    "# question 2"
   ]
  },
  {
   "cell_type": "code",
   "execution_count": 2,
   "id": "e7ca9143",
   "metadata": {},
   "outputs": [],
   "source": [
    "# Target Guided Ordinal Encoding is a technique used to encode categorical variables based on their relationship with the target variable in a supervised learning setting. Instead of assigning arbitrary numerical labels or encoding based solely on the frequency of categories, Target Guided Ordinal Encoding considers the relationship between the categories and the target variable, thereby capturing valuable information for predictive modeling tasks.\n",
    "\n",
    "# Here's how Target Guided Ordinal Encoding typically works:\n",
    "\n",
    "# Calculate the Mean/Median/Any other Aggregated Value: For each category within the categorical variable, calculate a statistical aggregated value (such as mean, median, mode, etc.) of the target variable. This aggregated value serves as a representative measure of the target variable's behavior for each category.\n",
    "\n",
    "# Order the Categories: Order the categories based on their aggregated values. This step ensures that the encoding reflects the ordinal relationship between categories and the target variable.\n",
    "\n",
    "# Assign Numerical Labels: Assign numerical labels to the ordered categories based on their position in the sorted list. The category with the lowest aggregated value gets the lowest label, and so on.\n",
    "\n",
    "# Encode the Categorical Variable: Replace the original categories with their corresponding numerical labels."
   ]
  },
  {
   "cell_type": "markdown",
   "id": "a9e219cd",
   "metadata": {},
   "source": [
    "# question 3"
   ]
  },
  {
   "cell_type": "code",
   "execution_count": null,
   "id": "89c7862b",
   "metadata": {},
   "outputs": [],
   "source": [
    "\n",
    "# Covariance is a statistical measure that quantifies the degree to which two random variables change together. In other words, it measures the tendency of the variables to move in the same direction (positive covariance) or in opposite directions (negative covariance). A positive covariance indicates that as one variable increases, the other variable tends to increase as well, while a negative covariance indicates that as one variable increases, the other tends to decrease.\n",
    "\n",
    "# Covariance is important in statistical analysis for several reasons:\n",
    "\n",
    "# Relationship between Variables: Covariance provides insight into the relationship between two variables. A high positive covariance suggests a strong positive relationship, while a high negative covariance suggests a strong negative relationship. Understanding the covariance between variables helps in identifying patterns and dependencies in the data.\n",
    "\n",
    "# Portfolio Analysis: In finance, covariance is used to assess the relationship between the returns of different assets in a portfolio. A low or negative covariance between assets indicates that they are likely to move independently of each other, reducing overall portfolio risk through diversification.\n",
    "\n",
    "# Linear Regression: Covariance is used in linear regression analysis to determine the extent to which independent variables (predictors) are linearly related to the dependent variable (outcome). In this context, covariance helps assess the strength and direction of the relationship between variables.\n",
    "\n",
    "# Multivariate Analysis: Covariance matrices are used in multivariate analysis techniques such as principal component analysis (PCA), factor analysis, and discriminant analysis. These techniques rely on covariance structures to identify underlying patterns and relationships among multiple variables.\n",
    "\n"
   ]
  }
 ],
 "metadata": {
  "kernelspec": {
   "display_name": "Python 3 (ipykernel)",
   "language": "python",
   "name": "python3"
  },
  "language_info": {
   "codemirror_mode": {
    "name": "ipython",
    "version": 3
   },
   "file_extension": ".py",
   "mimetype": "text/x-python",
   "name": "python",
   "nbconvert_exporter": "python",
   "pygments_lexer": "ipython3",
   "version": "3.11.5"
  }
 },
 "nbformat": 4,
 "nbformat_minor": 5
}
